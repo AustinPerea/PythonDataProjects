{
 "cells": [
  {
   "cell_type": "markdown",
   "id": "def5ce40-ce92-46a7-9ffa-9cfc74b0f7df",
   "metadata": {},
   "source": [
    "1. Write an expression that will cause the following code to print \"30 or less\" if the value of\n",
    "user input is 30 or less."
   ]
  },
  {
   "cell_type": "code",
   "execution_count": 13,
   "id": "e8cbb734-80ec-4535-94d9-fabf7d31ad44",
   "metadata": {},
   "outputs": [
    {
     "name": "stdin",
     "output_type": "stream",
     "text": [
      " 30\n"
     ]
    },
    {
     "name": "stdout",
     "output_type": "stream",
     "text": [
      "30 or less\n"
     ]
    }
   ],
   "source": [
    "num = float(input(\"Please enter a number: \"))\n",
    "if num <= 30:\n",
    "    print('30 or less')\n",
    "else:\n",
    "    print('Over 30')"
   ]
  },
  {
   "cell_type": "markdown",
   "id": "908fa35d-1fa6-45fb-85ff-1af0a31d9e59",
   "metadata": {},
   "source": [
    "2. Write a program that reads a floating-point number and prints “zero” if the number is zero.\n",
    "Otherwise, print “positive” or “negative”. Add “small” if the absolute value of the number is less\n",
    "than 1,000,000 or “large” if it exceeds 1,000,000"
   ]
  },
  {
   "cell_type": "code",
   "execution_count": 51,
   "id": "c03d69c0-09b8-4769-846b-f5c6db1a588d",
   "metadata": {},
   "outputs": [
    {
     "name": "stdin",
     "output_type": "stream",
     "text": [
      "Enter a number:  302\n"
     ]
    },
    {
     "name": "stdout",
     "output_type": "stream",
     "text": [
      "small positive\n"
     ]
    }
   ],
   "source": [
    "num = float(input(\"Enter a number: \"))\n",
    "\n",
    "if num == 0.0 :\n",
    "    print(\"zero\")\n",
    "else :\n",
    "    if abs(num) < 1000000 :\n",
    "        print(\"small \", end=\"\")\n",
    "    elif abs(num) > 1000000 :\n",
    "        print(\"large \", end=\"\")\n",
    "    if num > 0 :\n",
    "        print(\"positive\")\n",
    "    else :\n",
    "        print(\"negative\")"
   ]
  },
  {
   "cell_type": "markdown",
   "id": "7d3e6836-8b61-4eac-965a-bb82396d37dc",
   "metadata": {},
   "source": [
    "3. Write an if-else statement with multiple branches.\n",
    "If year is 2101 or later, print \"Distant future\" (without quotes). Otherwise, if year is 2001 or\n",
    "greater, print \"21st century\". Otherwise, if year is 1901 or greater, print \"20th century\". Else\n",
    "(1900 or earlier), print \"Long ago\"."
   ]
  },
  {
   "cell_type": "code",
   "execution_count": 86,
   "id": "cc9982c6-6c5e-4482-9ad5-a70efdf1f208",
   "metadata": {},
   "outputs": [
    {
     "name": "stdin",
     "output_type": "stream",
     "text": [
      "Please enter a year:  1901\n"
     ]
    },
    {
     "name": "stdout",
     "output_type": "stream",
     "text": [
      "20th century\n"
     ]
    }
   ],
   "source": [
    "year = int(input(\"Please enter a year: \"))\n",
    "\n",
    "if year < 1901:\n",
    "    print(\"Long ago\")\n",
    "elif year < 2001:\n",
    "    print(\"20th century\")\n",
    "elif year < 2101:\n",
    "    print(\"21st century\")\n",
    "else:\n",
    "    print(\"Distant future\")"
   ]
  },
  {
   "cell_type": "markdown",
   "id": "4de1b185-bcc0-4fbc-bdd7-7db90c2e8693",
   "metadata": {},
   "source": [
    "4. Write a program whose inputs are three integers, and whose output is the smallest of\n",
    "the three values."
   ]
  },
  {
   "cell_type": "code",
   "execution_count": 3,
   "id": "d413b470-0963-4025-a68c-ff283785f17d",
   "metadata": {},
   "outputs": [
    {
     "name": "stdin",
     "output_type": "stream",
     "text": [
      " -3050\n",
      " -10000\n",
      " -23\n"
     ]
    },
    {
     "name": "stdout",
     "output_type": "stream",
     "text": [
      "-10000\n"
     ]
    }
   ],
   "source": [
    "num1 = int(input(\"Please enter a interger: \"))\n",
    "num2 = int(input(\"Please enter a interger: \"))\n",
    "num3 = int(input(\"Please enter a interger: \"))\n",
    "   \n",
    "\n",
    "if num1 < num2 and num1 < num3:\n",
    "    smallest = num1\n",
    "elif num2 < num3 and num2 < num1:\n",
    "    smallest = num2\n",
    "else:\n",
    "    smallest = num3\n",
    "print(smallest)"
   ]
  },
  {
   "cell_type": "markdown",
   "id": "d22ebc7b-8c40-4bde-9ce4-a823288df47b",
   "metadata": {},
   "source": [
    "5. Write a program that reads a temperature value and the letter C for Celsius or F for Fahrenheit. Print\n",
    "whether water is liquid, solid, or gaseous at the given temperature at sea level."
   ]
  },
  {
   "cell_type": "code",
   "execution_count": 83,
   "id": "37af2194-99d7-48ec-83e3-7ac9e3ffaa82",
   "metadata": {},
   "outputs": [
    {
     "name": "stdin",
     "output_type": "stream",
     "text": [
      "Enter the temperature:  0\n",
      "Enter the unit (C or F):  c\n"
     ]
    },
    {
     "name": "stdout",
     "output_type": "stream",
     "text": [
      "At that temperature, the water is gaseous.\n"
     ]
    }
   ],
   "source": [
    "temperature = int(input(\"Enter the temperature: \"))\n",
    "unit = input(\"Enter the unit (C or F): \")\n",
    "\n",
    "unit = unit.upper()\n",
    "\n",
    "if unit == \"F\" :\n",
    "   temperature = (temperature - 32) * 5 / 9\n",
    "\n",
    "if temperature < 0 :\n",
    "   state = \"solid\"\n",
    "elif temperature < 100 :\n",
    "   state = \"liquid\"\n",
    "else :\n",
    "   state = \"gaseous\"\n",
    "\n",
    "print(\"At that temperature, the water is %s.\" % state)"
   ]
  },
  {
   "cell_type": "code",
   "execution_count": null,
   "id": "5e82d195-2466-4ea8-a2d9-46959f18f54b",
   "metadata": {},
   "outputs": [],
   "source": []
  }
 ],
 "metadata": {
  "kernelspec": {
   "display_name": "Python 3 (ipykernel)",
   "language": "python",
   "name": "python3"
  },
  "language_info": {
   "codemirror_mode": {
    "name": "ipython",
    "version": 3
   },
   "file_extension": ".py",
   "mimetype": "text/x-python",
   "name": "python",
   "nbconvert_exporter": "python",
   "pygments_lexer": "ipython3",
   "version": "3.9.12"
  }
 },
 "nbformat": 4,
 "nbformat_minor": 5
}
