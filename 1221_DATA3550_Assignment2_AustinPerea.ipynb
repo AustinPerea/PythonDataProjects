{
 "cells": [
  {
   "cell_type": "markdown",
   "id": "ff858afa-d749-4ddf-8c90-b8c05cf5e608",
   "metadata": {},
   "source": [
    "1. Car Wash. \n",
    "Write a program to calculate the total price for car wash services. Provide a test case. A base car was is $10. The user can choose no more than 2 additional services in one service. And the program will present the user with the itemized pricing as well as the total cost. "
   ]
  },
  {
   "cell_type": "code",
   "execution_count": 13,
   "id": "14844ac4-7d4a-4c2c-ac1d-adeb633ab428",
   "metadata": {},
   "outputs": [
    {
     "name": "stdout",
     "output_type": "stream",
     "text": [
      "Additional Services\n",
      "-------------------\n",
      "Air Freshener: $1\n",
      "Rain Repellent: $2\n",
      "Tire Shine: $3\n",
      "Wax: $3\n",
      "Vacuum: $5\n",
      "\n",
      "\n"
     ]
    },
    {
     "name": "stdin",
     "output_type": "stream",
     "text": [
      "Choose your first additional service. Wax\n",
      "Choose your second additional service. Vacuum\n"
     ]
    },
    {
     "name": "stdout",
     "output_type": "stream",
     "text": [
      "Base car wash: $10\n",
      "Wax: $3\n",
      "Vacuum: $5\n",
      "Total: $18\n"
     ]
    }
   ],
   "source": [
    "add_services = { 'Air Freshener' : 1 , 'Rain Repellent': 2, 'Tire Shine' : 2, 'Wax' : 3, 'Vacuum' : 5 }\n",
    "\n",
    "base_cost = 10\n",
    "total = 0\n",
    "\n",
    "service_list = (\n",
    "        'Additional Services\\n'\n",
    "        '-------------------\\n'\n",
    "        'Air Freshener: $1\\n'  \n",
    "        'Rain Repellent: $2\\n'  \n",
    "        'Tire Shine: $3\\n'  \n",
    "        'Wax: $3\\n'\n",
    "        'Vacuum: $5\\n\\n')\n",
    "\n",
    "print(service_list)\n",
    "\n",
    "add_service_input1= input('Choose your first additional service.')\n",
    "\n",
    "add_service_input2 = input('Choose your second additional service.')\n",
    "\n",
    "if add_service_input1 not in add_services or add_service_input2 not in add_services:\n",
    "     print('Please enter a valid additional service.')\n",
    "else:\n",
    "    cost1 = add_services[add_service_input1]\n",
    "\n",
    "    cost2 = add_services[add_service_input2]\n",
    "\n",
    "    total = base_cost + cost1 + cost2\n",
    "\n",
    "    print(f'Base car wash: ${base_cost}')\n",
    "\n",
    "    print(f'{add_service_input1}: ${cost1}')\n",
    "\n",
    "    print(f'{add_service_input2}: ${cost2}')\n",
    "\n",
    "    print(f'Total: ${total}')\n"
   ]
  },
  {
   "cell_type": "markdown",
   "id": "183892cb-daff-4f46-98b3-251ed83e30af",
   "metadata": {},
   "source": [
    "2. Best Customer of the Day.\n",
    "A supermarket wants to reward its best customer of each day, showing the customer’s\n",
    "name on a screen in the supermarket.\n",
    "A best customer of the day is the customer with the largest purchase amount.\n",
    "Write a program that prompts the cashier to enter all prices and names, and displays\n",
    "the result of the best sutomer of the day. Provide a test case."
   ]
  },
  {
   "cell_type": "code",
   "execution_count": 14,
   "id": "22e6f418-0b56-4cbc-9d6b-38b1a5768af6",
   "metadata": {},
   "outputs": [
    {
     "name": "stdin",
     "output_type": "stream",
     "text": [
      "Enter a new purchase amount(0 to exit):  100\n",
      "Enter customer name:  Aaron\n",
      "Enter a new purchase amount(0 to exit):  20\n",
      "Enter customer name:  Jim\n",
      "Enter a new purchase amount(0 to exit):  162.34\n",
      "Enter customer name:  Mary\n",
      "Enter a new purchase amount(0 to exit):  0\n"
     ]
    },
    {
     "name": "stdout",
     "output_type": "stream",
     "text": [
      "The best customer of the day is Mary.\n",
      "They spent $162.34.\n"
     ]
    }
   ],
   "source": [
    "purchases = []\n",
    "customers = []\n",
    "\n",
    "def customerPurchase() :\n",
    "    purchaseAmt = 0.01\n",
    "    customerName = 0\n",
    "    \n",
    "    while purchaseAmt > 0 :\n",
    "        purchaseAmt = float(input('Enter a new purchase amount(0 to exit): '))\n",
    "        if purchaseAmt > 0 :\n",
    "            purchases.append(purchaseAmt)\n",
    "            customerName = input('Enter customer name: ')\n",
    "            customers.append (customerName)\n",
    "\n",
    "def bestCustomerOfTheDay(purchases, customers) :\n",
    "    maxPurchase = 0\n",
    "\n",
    "    maxPurchase = max(purchases)\n",
    "    for i in range(len(customers)):\n",
    "        if purchases[i] == maxPurchase:\n",
    "            print(f'The best customer of the day is {customers[i]}.')\n",
    "    print(f'They spent ${maxPurchase:.2f}.')\n",
    "\n",
    "customerPurchase()\n",
    "bestCustomerOfTheDay(purchases, customers)"
   ]
  },
  {
   "cell_type": "markdown",
   "id": "2076dcf0-2054-48f1-9562-2723ab31d944",
   "metadata": {},
   "source": [
    "3. Sum of Numbers.\n",
    "Write a program that asks the user to input a set of floating-point values. When the user\n",
    "enters a value that is not a number, give the user a second chance to enter the value.\n",
    "After two chances, quit reading input.\n",
    "Add all correctly specified values and print the sum when the user is done entering data.\n",
    "Use exception handling to detect improper inputs."
   ]
  },
  {
   "cell_type": "code",
   "execution_count": 8,
   "id": "ccc35449-1ab2-4d74-aa83-9400cc609a57",
   "metadata": {},
   "outputs": [
    {
     "name": "stdin",
     "output_type": "stream",
     "text": [
      "Enter a number(Q to quit):  12.345\n",
      "Enter a number(Q to quit):  q\n"
     ]
    },
    {
     "name": "stdout",
     "output_type": "stream",
     "text": [
      "Enter a valid number.\n"
     ]
    },
    {
     "name": "stdin",
     "output_type": "stream",
     "text": [
      "Enter a number(Q to quit):  21\n",
      "Enter a number(Q to quit):  34.514\n",
      "Enter a number(Q to quit):  1.21\n",
      "Enter a number(Q to quit):  bro\n"
     ]
    },
    {
     "name": "stdout",
     "output_type": "stream",
     "text": [
      "Enter a valid number.\n",
      "You have been given more than 2 chances for a valid input\n",
      "The sum of all the valid numbers is 69.069.\n"
     ]
    }
   ],
   "source": [
    "count = 0\n",
    "sum = 0\n",
    "while True:\n",
    "    if count == 2:\n",
    "        print('You have been given more than 2 chances for a valid input')\n",
    "        break\n",
    "    num = input('Enter a number(Q to quit): ')\n",
    "    if num == 'Q':\n",
    "        break\n",
    "    try:\n",
    "        sum = sum + float(num)    \n",
    "    except:\n",
    "        count = count + 1\n",
    "        print('Enter a valid number.')\n",
    "        continue\n",
    "print(f'The sum of all the valid numbers is {sum}.')\n"
   ]
  },
  {
   "cell_type": "markdown",
   "id": "efbe2bce-ca89-4c6a-a8ef-bda2ff45ef92",
   "metadata": {},
   "source": [
    "4. Students' Grades.\n",
    "Write a program that keeps a dictionary in which both keys and values are strings—\n",
    "names of students and their course grades.\n",
    "Prompt the user of the program to add or remove students, to modify grades, or to print\n",
    "all grades.\n",
    "The printout should be sorted by name and formatted like this:\n",
    "Carl: B+\n",
    "Joe: C\n",
    "Sarah: A\n",
    "Francine: A"
   ]
  },
  {
   "cell_type": "code",
   "execution_count": 10,
   "id": "5e56e2a1-40a8-43f0-a13e-579297505a55",
   "metadata": {},
   "outputs": [
    {
     "name": "stdin",
     "output_type": "stream",
     "text": [
      "1. Add/modify a student\n",
      "2. Remove a student\n",
      "3. Print student grades\n",
      "4. Quit\n",
      " 1\n",
      "Enter a students name:  Carl\n",
      "Enter a students grade:  B+\n",
      "1. Add/modify a student\n",
      "2. Remove a student\n",
      "3. Print student grades\n",
      "4. Quit\n",
      " 1\n",
      "Enter a students name:  Joe\n",
      "Enter a students grade:  C\n",
      "1. Add/modify a student\n",
      "2. Remove a student\n",
      "3. Print student grades\n",
      "4. Quit\n",
      " Sarah\n"
     ]
    },
    {
     "name": "stdout",
     "output_type": "stream",
     "text": [
      "Please enter a valid input.\n"
     ]
    },
    {
     "name": "stdin",
     "output_type": "stream",
     "text": [
      "1. Add/modify a student\n",
      "2. Remove a student\n",
      "3. Print student grades\n",
      "4. Quit\n",
      " 1\n",
      "Enter a students name:  Sarah\n",
      "Enter a students grade:  A\n",
      "1. Add/modify a student\n",
      "2. Remove a student\n",
      "3. Print student grades\n",
      "4. Quit\n",
      " 1\n",
      "Enter a students name:  Francine\n",
      "Enter a students grade:  A\n",
      "1. Add/modify a student\n",
      "2. Remove a student\n",
      "3. Print student grades\n",
      "4. Quit\n",
      " 3\n"
     ]
    },
    {
     "name": "stdout",
     "output_type": "stream",
     "text": [
      "{'Carl': 'B+', 'Joe': 'C', 'Sarah': 'A', 'Francine': 'A'}\n"
     ]
    },
    {
     "name": "stdin",
     "output_type": "stream",
     "text": [
      "1. Add/modify a student\n",
      "2. Remove a student\n",
      "3. Print student grades\n",
      "4. Quit\n",
      " 1\n",
      "Enter a students name:  Francine\n",
      "Enter a students grade:  A-\n",
      "1. Add/modify a student\n",
      "2. Remove a student\n",
      "3. Print student grades\n",
      "4. Quit\n",
      " 3\n"
     ]
    },
    {
     "name": "stdout",
     "output_type": "stream",
     "text": [
      "{'Carl': 'B+', 'Joe': 'C', 'Sarah': 'A', 'Francine': 'A-'}\n"
     ]
    },
    {
     "name": "stdin",
     "output_type": "stream",
     "text": [
      "1. Add/modify a student\n",
      "2. Remove a student\n",
      "3. Print student grades\n",
      "4. Quit\n",
      " 2\n",
      "Enter a students name you want to remove:  Francine\n",
      "1. Add/modify a student\n",
      "2. Remove a student\n",
      "3. Print student grades\n",
      "4. Quit\n",
      " 3\n"
     ]
    },
    {
     "name": "stdout",
     "output_type": "stream",
     "text": [
      "{'Carl': 'B+', 'Joe': 'C', 'Sarah': 'A'}\n"
     ]
    },
    {
     "name": "stdin",
     "output_type": "stream",
     "text": [
      "1. Add/modify a student\n",
      "2. Remove a student\n",
      "3. Print student grades\n",
      "4. Quit\n",
      " 1\n",
      "Enter a students name:  Francine\n",
      "Enter a students grade:  A\n",
      "1. Add/modify a student\n",
      "2. Remove a student\n",
      "3. Print student grades\n",
      "4. Quit\n",
      " 3\n"
     ]
    },
    {
     "name": "stdout",
     "output_type": "stream",
     "text": [
      "{'Carl': 'B+', 'Joe': 'C', 'Sarah': 'A', 'Francine': 'A'}\n"
     ]
    },
    {
     "name": "stdin",
     "output_type": "stream",
     "text": [
      "1. Add/modify a student\n",
      "2. Remove a student\n",
      "3. Print student grades\n",
      "4. Quit\n",
      " 4\n"
     ]
    }
   ],
   "source": [
    "grades = {}\n",
    "\n",
    "menu_prompt = ('1. Add/modify a student\\n'\n",
    "               '2. Remove a student\\n'\n",
    "                '3. Print student grades\\n'\n",
    "                '4. Quit\\n')\n",
    "\n",
    "while True: \n",
    "    userInput = input(menu_prompt).lower().strip()\n",
    "    if userInput == '1':\n",
    "        name = input('Enter a students name: ')\n",
    "        grade = input('Enter a students grade: ')\n",
    "        grades.update({name: grade})\n",
    "    elif userInput == '2':\n",
    "        name = input('Enter a students name you want to remove: ')\n",
    "        grades.pop(name)\n",
    "    elif userInput == '3':\n",
    "        print(grades)\n",
    "    elif userInput == '4':\n",
    "        break\n",
    "    else:\n",
    "        print('Please enter a valid input.')\n",
    "        \n",
    "        \n",
    "        "
   ]
  },
  {
   "cell_type": "markdown",
   "id": "c510dee0-6e82-4efc-ab95-ebc643fb1f57",
   "metadata": {},
   "source": [
    "5. Appointments Tracker.\n",
    "Implement a superclass Appointment and subclasses Onetime, Daily, and Monthly.\n",
    "An appointment has a description (for example, “see the dentist”) and a date.\n",
    "Write a method occursOn(year, month, day) that checks whether the appointment\n",
    "occurs on that date.\n",
    "For example, for a monthly appointment, you must check whether the day of the month\n",
    "matches. Then fill a list of Appointment objects with a mixture of appointments.\n",
    "Have the user enter a date and print out all appointments that occur on that date."
   ]
  },
  {
   "cell_type": "code",
   "execution_count": 9,
   "id": "bc6fbaf0-98b3-44e5-9f06-162f0ea8ed7c",
   "metadata": {},
   "outputs": [
    {
     "name": "stdin",
     "output_type": "stream",
     "text": [
      "Enter the day (0 to exit):  1\n",
      "Enter the month:  2\n",
      "Enter the year:  2022\n"
     ]
    },
    {
     "name": "stdout",
     "output_type": "stream",
     "text": [
      "Go to the gym\n"
     ]
    },
    {
     "name": "stdin",
     "output_type": "stream",
     "text": [
      "Enter the day (0 to exit):  17\n",
      "Enter the month:  2\n",
      "Enter the year:  2022\n"
     ]
    },
    {
     "name": "stdout",
     "output_type": "stream",
     "text": [
      "Doctors appointment\n"
     ]
    },
    {
     "name": "stdin",
     "output_type": "stream",
     "text": [
      "Enter the day (0 to exit):  12\n",
      "Enter the month:  4\n",
      "Enter the year:  2022\n"
     ]
    },
    {
     "name": "stdout",
     "output_type": "stream",
     "text": [
      "Volleyball championship\n"
     ]
    },
    {
     "name": "stdin",
     "output_type": "stream",
     "text": [
      "Enter the day (0 to exit):  21\n",
      "Enter the month:  12\n",
      "Enter the year:  2022\n"
     ]
    },
    {
     "name": "stdout",
     "output_type": "stream",
     "text": [
      "Cooking competition\n"
     ]
    },
    {
     "name": "stdin",
     "output_type": "stream",
     "text": [
      "Enter the day (0 to exit):  9\n",
      "Enter the month:  5\n",
      "Enter the year:  2022\n"
     ]
    },
    {
     "name": "stdout",
     "output_type": "stream",
     "text": [
      "See my grandparents\n"
     ]
    },
    {
     "name": "stdin",
     "output_type": "stream",
     "text": [
      "Enter the day (0 to exit):  12\n",
      "Enter the month:  1\n",
      "Enter the year:  2022\n"
     ]
    },
    {
     "name": "stdout",
     "output_type": "stream",
     "text": [
      "Walk my dog\n"
     ]
    },
    {
     "name": "stdin",
     "output_type": "stream",
     "text": [
      "Enter the day (0 to exit):  0\n"
     ]
    }
   ],
   "source": [
    "from datetime import date\n",
    "\n",
    "class Appointment(object):\n",
    "    def __init__(self,day,month,year,description):\n",
    "        self.description = description\n",
    "        self.date = date(year,month,day)\n",
    "    \n",
    "    def occursOn(self,day,month,year):\n",
    "        if self.date == date(year,month,day):\n",
    "            return True\n",
    "        else:\n",
    "            return False\n",
    "\n",
    "class Onetime(Appointment):\n",
    "    def __init__(self,day,month,year,description):\n",
    "        super(Onetime,self).__init__(day,month,year,description)\n",
    "  \n",
    "    \n",
    "class Daily(Appointment):\n",
    "    def __init__(self,day,month,year,description):\n",
    "        super(Daily,self).__init__(day,month,year,description)\n",
    "\n",
    "def occursOn(self,day,month,year):\n",
    "    return True\n",
    "\n",
    "   \n",
    "class Monthly(Appointment):\n",
    "    def __init__(self,day,month,year,description):\n",
    "        super(Monthly,self).__init__(day,month,year,description)\n",
    "\n",
    "    def occursOn(self,day,month,year):\n",
    "        if self.date.day == day:\n",
    "            return True\n",
    "        else:\n",
    "            return False\n",
    "        \n",
    "def appointmentTracker():       \n",
    "    apptList = []\n",
    "    apptList.append(Daily(1, 2, 2022, 'Go to the gym'))\n",
    "    apptList.append(Daily(12, 1, 2022, 'Walk my dog'))\n",
    "    apptList.append(Monthly(17, 2, 2022, 'Doctors appointment'))\n",
    "    apptList.append(Monthly(9, 5, 2022, 'See my grandparents'))\n",
    "    apptList.append(Onetime(21, 12, 2022, 'Cooking competition'))\n",
    "    apptList.append(Onetime(12, 4, 2022, 'Volleyball championship'))\n",
    "\n",
    "    day = int(input('Enter the day (0 to exit): '))\n",
    "    while day != 0 :\n",
    "        month = int(input('Enter the month: '))\n",
    "        year = int(input('Enter the year: '))\n",
    "        for appt in apptList :\n",
    "            if appt.occursOn(day,month,year) :\n",
    "                print(appt.description)\n",
    "        day = int(input('Enter the day (0 to exit): '))\n",
    "\n",
    "appointmentTracker()"
   ]
  },
  {
   "cell_type": "code",
   "execution_count": null,
   "id": "6da129d8-71b5-4e9a-af06-a554cfb9cd4b",
   "metadata": {},
   "outputs": [],
   "source": []
  }
 ],
 "metadata": {
  "kernelspec": {
   "display_name": "Python 3 (ipykernel)",
   "language": "python",
   "name": "python3"
  },
  "language_info": {
   "codemirror_mode": {
    "name": "ipython",
    "version": 3
   },
   "file_extension": ".py",
   "mimetype": "text/x-python",
   "name": "python",
   "nbconvert_exporter": "python",
   "pygments_lexer": "ipython3",
   "version": "3.9.12"
  }
 },
 "nbformat": 4,
 "nbformat_minor": 5
}
