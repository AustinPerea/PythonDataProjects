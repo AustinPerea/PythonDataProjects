{
 "cells": [
  {
   "cell_type": "markdown",
   "id": "63dfb3d2-902a-427f-bb59-2b8ece0440e0",
   "metadata": {},
   "source": [
    "1. Write a statement that assigns total_coins with the sum of nickel_count and\n",
    "dime_count. For example, the output for 100 nickels and 200 dimes is 300."
   ]
  },
  {
   "cell_type": "code",
   "execution_count": 8,
   "id": "c85a03a0-1c83-4577-b2d0-62e7d836fb98",
   "metadata": {},
   "outputs": [
    {
     "name": "stdin",
     "output_type": "stream",
     "text": [
      "Enter the number of nickels:  15\n",
      "Enter the number of dimes:  450\n"
     ]
    },
    {
     "name": "stdout",
     "output_type": "stream",
     "text": [
      "The total for 15 nickels and 450 dimes is 465.\n"
     ]
    }
   ],
   "source": [
    "# Number of nickels and dimes\n",
    "nickel_count = int(input('Enter the number of nickels: '))\n",
    "dime_count = int(input('Enter the number of dimes: '))\n",
    "\n",
    "# Calculate the total number of coins of nickel and dimes\n",
    "total_coins = nickel_count + dime_count\n",
    "\n",
    "# Displays the entered values of the nickels and dimes then totals them together\n",
    "print(\"The total for \"+ str(nickel_count) + \" nickels and \" + str(dime_count) + \" dimes is \" + str(total_coins) + \".\")"
   ]
  },
  {
   "cell_type": "code",
   "execution_count": null,
   "id": "ee0286e7-92ea-4817-bfa4-812698b4ea1b",
   "metadata": {},
   "outputs": [],
   "source": [
    "2. Write a statement that assigns cell_count with cell_count multiplied by 10. * performs\n",
    "multiplication. If the input is 10, the output should be 100."
   ]
  },
  {
   "cell_type": "code",
   "execution_count": 11,
   "id": "e37f812f-dea9-4182-b719-5e0277db0a91",
   "metadata": {},
   "outputs": [
    {
     "name": "stdin",
     "output_type": "stream",
     "text": [
      "Enter the old cell count: 21\n"
     ]
    },
    {
     "name": "stdout",
     "output_type": "stream",
     "text": [
      "The new cell count is 210.\n"
     ]
    }
   ],
   "source": [
    "# Number of old cells \n",
    "cell_count = int(input(\"Enter the old cell count:\"))\n",
    "\n",
    "# Calculate the new total cell count\n",
    "cell_count = cell_count * 10\n",
    "\n",
    "# Displays the new total cell count\n",
    "print(\"The new cell count is \" + str(cell_count) + \".\")"
   ]
  },
  {
   "cell_type": "code",
   "execution_count": null,
   "id": "09a589bf-f497-407d-ad26-f98f07ad52c6",
   "metadata": {},
   "outputs": [],
   "source": [
    "3. Write a program that prompts the user for a measurement in meters and then converts it\n",
    "to miles, feet, and inches."
   ]
  },
  {
   "cell_type": "code",
   "execution_count": 14,
   "id": "53f39367-111c-49cd-8bd4-11fe61ff2b28",
   "metadata": {},
   "outputs": [
    {
     "name": "stdin",
     "output_type": "stream",
     "text": [
      "Enter the number of metres:  5600\n"
     ]
    },
    {
     "name": "stdout",
     "output_type": "stream",
     "text": [
      "5600.0 meters is 3.48 miles.\n",
      "5600.0 meters is 18372.70 feet.\n",
      "5600.0 meters is 220472.44 inches.\n"
     ]
    }
   ],
   "source": [
    "# Number of metres\n",
    "metres =  float(input('Enter the number of metres: '))\n",
    "\n",
    "# Calculate the metre converion to miles, feet, and inches\n",
    "miles_conversion = metres / 1609.34\n",
    "feet_conversion = metres / 0.3048\n",
    "inches_conversion = metres / 0.0254\n",
    "\n",
    "# Displays the conversion of metres to miles, feet, and inches\n",
    "print(metres, \"meters is %.2f miles.\" % miles_conversion)\n",
    "print(metres,\"meters is %.2f feet.\" % feet_conversion)\n",
    "print(metres,\"meters is %.2f inches.\" % inches_conversion)"
   ]
  },
  {
   "cell_type": "code",
   "execution_count": null,
   "id": "bf0d0322-f40e-4a5f-acc1-3722ed18304a",
   "metadata": {},
   "outputs": [],
   "source": [
    "4. Write a program to compute how many gallons of paint are needed to cover the walls'\n",
    "given square feet. Assume 1 gallon can cover 350.0 square feet. So gallons = the\n",
    "square feet divided by 350.0. If the input is 250.0, the output should\n",
    "be:0.714285714286."
   ]
  },
  {
   "cell_type": "code",
   "execution_count": 19,
   "id": "402f2568-c54b-4266-a438-9a4de4d76986",
   "metadata": {},
   "outputs": [
    {
     "name": "stdin",
     "output_type": "stream",
     "text": [
      "Enter the square feet:  740\n"
     ]
    },
    {
     "name": "stdout",
     "output_type": "stream",
     "text": [
      "We need 2.11 gallons of paint. \n",
      "or \n",
      "We need 2.114285714286 gallons of paint.\n"
     ]
    }
   ],
   "source": [
    "# Number of square feet\n",
    "square_feet =  float(input(\"Enter the square feet: \"))\n",
    "\n",
    "# Calculate the gallons of paint to cover the square feet\n",
    "gallons_paint = square_feet / 350\n",
    "\n",
    "# Displays the gallons of paint needed to cover the square feet\n",
    "print(\"We need %.2f gallons of paint. \\n\" % gallons_paint + \"or \\n\" + \"We need %.12f gallons of paint.\" % gallons_paint)"
   ]
  },
  {
   "cell_type": "code",
   "execution_count": null,
   "id": "d7c919dd-ebe6-488f-b1fe-514dbf622943",
   "metadata": {},
   "outputs": [],
   "source": [
    "5. Write a program that reads a five-digit positive integer and breaks it into a sequence of\n",
    "individual digits. (20%) For example, the input 16384 is displayed as\n",
    "1 6 3 8 4"
   ]
  },
  {
   "cell_type": "code",
   "execution_count": 22,
   "id": "b1e51c79-4cae-4ed9-a68e-762d844a5dd5",
   "metadata": {},
   "outputs": [
    {
     "name": "stdin",
     "output_type": "stream",
     "text": [
      "Please enter a five-digit positive integer: 90389\n"
     ]
    },
    {
     "name": "stdout",
     "output_type": "stream",
     "text": [
      "9 0 3 8 9\n"
     ]
    }
   ],
   "source": [
    "# 5 digit positive integer\n",
    "numStr = input(\"Please enter a five-digit positive integer:\")\n",
    "\n",
    "# Adds a space between each number\n",
    "result = numStr[0] + \" \" + numStr[1] + \" \" + numStr[2] + \" \" + numStr[3] + \" \" + numStr[4]\n",
    "\n",
    "# Displays the 5 digit postive integer and adds a space between each number\n",
    "print(result)"
   ]
  },
  {
   "cell_type": "code",
   "execution_count": null,
   "id": "cb097efd-033c-4413-b45a-b3f2dfa08279",
   "metadata": {},
   "outputs": [],
   "source": []
  }
 ],
 "metadata": {
  "kernelspec": {
   "display_name": "Python 3 (ipykernel)",
   "language": "python",
   "name": "python3"
  },
  "language_info": {
   "codemirror_mode": {
    "name": "ipython",
    "version": 3
   },
   "file_extension": ".py",
   "mimetype": "text/x-python",
   "name": "python",
   "nbconvert_exporter": "python",
   "pygments_lexer": "ipython3",
   "version": "3.9.12"
  }
 },
 "nbformat": 4,
 "nbformat_minor": 5
}
