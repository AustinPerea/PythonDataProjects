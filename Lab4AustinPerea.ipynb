{
 "cells": [
  {
   "cell_type": "markdown",
   "id": "dd1468be-18d9-4da5-844a-89764b27723d",
   "metadata": {},
   "source": [
    "1. The following (unfinished) program implements a digital line queuing system for an amusement park ride. The system allows a rider to reserve a place in line without actually having to wait. The rider simply enters a name into a program to reserve a place. Riders that purchase a VIP pass get to skip past the common riders up to the last VIP rider in line. VIPs board the ride first. For this system, an employee manually selects when the ride is dispatched (thus removing the next riders from the front of the line). Complete the following program, as described above."
   ]
  },
  {
   "cell_type": "code",
   "execution_count": null,
   "id": "0c28bf16-340b-4e19-bacf-2bb51a291955",
   "metadata": {},
   "outputs": [
    {
     "name": "stdin",
     "output_type": "stream",
     "text": [
      "(1) Reserve place in line.\n",
      "(2) Reserve place in VIP line.\n",
      "(3) Dispatch riders.\n",
      "(4) Print riders.\n",
      "(5) Exit.\n",
      "\n",
      " 6\n"
     ]
    },
    {
     "name": "stdout",
     "output_type": "stream",
     "text": [
      "Choose another menu option\n"
     ]
    },
    {
     "name": "stdin",
     "output_type": "stream",
     "text": [
      "(1) Reserve place in line.\n",
      "(2) Reserve place in VIP line.\n",
      "(3) Dispatch riders.\n",
      "(4) Print riders.\n",
      "(5) Exit.\n",
      "\n",
      " 6\n"
     ]
    },
    {
     "name": "stdout",
     "output_type": "stream",
     "text": [
      "6\n",
      "Choose another menu option\n"
     ]
    }
   ],
   "source": [
    "line = []  # The line of riders\n",
    "num_vips = 0  # Track number of VIPs at front of line\n",
    "\n",
    "menu = ('(1) Reserve place in line.\\n'  # Add rider to line\n",
    "        '(2) Reserve place in VIP line.\\n'  # Add VIP\n",
    "        '(3) Dispatch riders.\\n'  # Dispatch next ride car\n",
    "        '(4) Print riders.\\n'\n",
    "        '(5) Exit.\\n\\n')\n",
    "\n",
    "user_input = input(menu).strip()\n",
    "\n",
    "while user_input != '5':\n",
    "    if user_input == '1':  # Add rider \n",
    "        name = input('Enter name:').strip()\n",
    "        print(name)\n",
    "        line.add(name)\n",
    "    elif user_input == '2':  # Add VIP\n",
    "        print('Add new VIP')\n",
    "        name = input('Enter name:').strip()\n",
    "        line.insert(num_vips,name)\n",
    "        num_vips += 1\n",
    "    elif user_input == '3':  # Dispatch ride\n",
    "        print('Removed riders from the front of the line.')\n",
    "        line.clear()\n",
    "    elif user_input == '4':  # Print riders waiting in line\n",
    "        print('%d person(s) waiting:' % len(line), line)\n",
    "    else:\n",
    "        print('Choose another menu option')\n",
    "\n",
    "    user_input = input(menu).strip()\n",
    "    print(user_input)"
   ]
  },
  {
   "cell_type": "markdown",
   "id": "1905a680-b464-4952-93a9-0c00fadd0944",
   "metadata": {},
   "source": [
    "2. Write a program that reads numbers and adds them to a list if they aren't already contained in the list. When the list contains ten numbers, the program displays the contents and quits."
   ]
  },
  {
   "cell_type": "code",
   "execution_count": null,
   "id": "47f874b9-3a15-4598-bc63-b052e3183723",
   "metadata": {},
   "outputs": [],
   "source": [
    "def main():\n",
    "    numList = []\n",
    "    while len(numList) < 10:\n",
    "        num = input('Enter a number: ')\n",
    "        num = float(num)\n",
    "        if num not in numList:\n",
    "            numList.append(num)\n",
    "        else:\n",
    "            print('Enter a different number: ')\n",
    "    print(numList)\n",
    "\n",
    "main()"
   ]
  },
  {
   "cell_type": "markdown",
   "id": "16b3ed82-e77a-4228-9c9f-aeccbb094cb1",
   "metadata": {},
   "source": [
    "3. We have a 12-side dice. Write a program to print the frequency of each die value from the user inputs. The user can input as many die toss values ass possible until the user quits."
   ]
  },
  {
   "cell_type": "code",
   "execution_count": null,
   "id": "3f88eabb-dd16-4e3d-bdaa-55f51a7f6210",
   "metadata": {},
   "outputs": [],
   "source": [
    "def main():\n",
    "    counters = countInputs(12)\n",
    "    printCounters(counters)\n",
    "   \n",
    "def countInputs(sides):\n",
    "    counters = [0] * (sides + 1)   \n",
    "    userInput = input(\"Please enter values, Q to quit:\")\n",
    "    while userInput.upper() != \"Q\" :\n",
    "        value = int(userInput)\n",
    "        if value >= 1 and value <= sides :\n",
    "            counters[value] = counters[value] + 1\n",
    "        else:\n",
    "            print(value, \"is not a valid input.\")\n",
    "        userInput = input(\"Please enter values, Q to quit:\") \n",
    "    return counters\n",
    "\n",
    "def printCounters(counters):\n",
    "    for i in range(1, len(counters)):\n",
    "        print(\"%2d: %4d\" % (i, counters[i]))\n",
    "\n",
    "main()"
   ]
  },
  {
   "cell_type": "markdown",
   "id": "d0cb33eb-7edd-4a9a-9b2c-a6adbb87e5f0",
   "metadata": {},
   "source": [
    "4. You are given a list whose size is an even number, and you are to switch the first and second half."
   ]
  },
  {
   "cell_type": "code",
   "execution_count": null,
   "id": "26d2d862-f22d-4890-b51c-ab0c13bdb1b9",
   "metadata": {},
   "outputs": [],
   "source": [
    "def main() :\n",
    "    list = [9, 13, 21, 4, 11, 7, 1, 3]\n",
    "    pos1 = 0\n",
    "    pos2 = len(list) // 2\n",
    "    while pos1 < len(list) // 2 :\n",
    "        swapPos(list, pos1, pos2)\n",
    "        pos1 = pos1 + 1\n",
    "        pos2 = pos2 + 1\n",
    "    print(list)\n",
    "   \n",
    "def swapPos(lt, pos1, pos2) :\n",
    "    temp = lt[pos1]\n",
    "    lt[pos1] = lt[pos2]\n",
    "    lt[pos2] = temp\n",
    "\n",
    "main()"
   ]
  },
  {
   "cell_type": "markdown",
   "id": "191736c7-646a-4c5b-b39c-cfdec2e89f7e",
   "metadata": {},
   "source": [
    "5. Write a program that first gets a list of intergers from the input. That list is followed by two more integers representing lower and upper bound of a range. Your program should output all integers from the list that are within that range (inclusive of the bounds)."
   ]
  },
  {
   "cell_type": "code",
   "execution_count": 14,
   "id": "f314d410-2838-4753-872d-b39e9b9135c0",
   "metadata": {},
   "outputs": [
    {
     "name": "stdin",
     "output_type": "stream",
     "text": [
      "Enter a integer, Q to quit:  10\n",
      "Enter a integer, Q to quit:  2\n",
      "Enter a integer, Q to quit:  1\n",
      "Enter a integer, Q to quit:  3\n",
      "Enter a integer, Q to quit:  10\n"
     ]
    },
    {
     "name": "stdout",
     "output_type": "stream",
     "text": [
      "Enter a different number.\n"
     ]
    },
    {
     "name": "stdin",
     "output_type": "stream",
     "text": [
      "Enter a integer, Q to quit:  10\n"
     ]
    },
    {
     "name": "stdout",
     "output_type": "stream",
     "text": [
      "Enter a different number.\n"
     ]
    },
    {
     "name": "stdin",
     "output_type": "stream",
     "text": [
      "Enter a integer, Q to quit:  10\n"
     ]
    },
    {
     "name": "stdout",
     "output_type": "stream",
     "text": [
      "Enter a different number.\n"
     ]
    },
    {
     "name": "stdin",
     "output_type": "stream",
     "text": [
      "Enter a integer, Q to quit:  10\n"
     ]
    },
    {
     "name": "stdout",
     "output_type": "stream",
     "text": [
      "Enter a different number.\n"
     ]
    },
    {
     "name": "stdin",
     "output_type": "stream",
     "text": [
      "Enter a integer, Q to quit:  20\n",
      "Enter a integer, Q to quit:  30\n",
      "Enter a integer, Q to quit:  q\n",
      "Enter the minimum range value:  1\n",
      "Enter the maximum range value:  10\n"
     ]
    },
    {
     "name": "stdout",
     "output_type": "stream",
     "text": [
      "1 2 3 10 "
     ]
    }
   ],
   "source": [
    "def range():\n",
    "    numList = []\n",
    "    userInput = input('Enter a integer, Q to quit: ')\n",
    "    while userInput.upper() != \"Q\":\n",
    "        userInput = int(userInput)\n",
    "        if userInput not in numList:\n",
    "            numList.append(userInput)\n",
    "        else:\n",
    "            print('Enter a different number.')\n",
    "        userInput = input('Enter a integer, Q to quit: ')\n",
    "    \n",
    "    numList.sort()\n",
    "    range_min = int(input('Enter the minimum range value: '))\n",
    "    range_max = int(input('Enter the maximum range value: '))\n",
    "    for number in numList:\n",
    "        if range_min <= number <= range_max:\n",
    "            print(number, end = ' ')\n",
    "range()"
   ]
  },
  {
   "cell_type": "code",
   "execution_count": null,
   "id": "04662588-86f2-4858-b01b-56d12940344c",
   "metadata": {},
   "outputs": [],
   "source": []
  }
 ],
 "metadata": {
  "kernelspec": {
   "display_name": "Python 3 (ipykernel)",
   "language": "python",
   "name": "python3"
  },
  "language_info": {
   "codemirror_mode": {
    "name": "ipython",
    "version": 3
   },
   "file_extension": ".py",
   "mimetype": "text/x-python",
   "name": "python",
   "nbconvert_exporter": "python",
   "pygments_lexer": "ipython3",
   "version": "3.9.12"
  }
 },
 "nbformat": 4,
 "nbformat_minor": 5
}
