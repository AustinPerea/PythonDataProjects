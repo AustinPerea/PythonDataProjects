{
 "cells": [
  {
   "cell_type": "markdown",
   "id": "4b329184",
   "metadata": {},
   "source": [
    "# <font color='blue'> **Data 3650 - Winter 2023**\n",
    "## <font color='darkcyan'> **Assignment 1** : 22 points\n",
    "   - Due date: Please check on Moodle.\n",
    "   - Please create additional cells (if necessary) to write your code under the questions.\n",
    "   - You must submit a single .ipynb file using the link on Moodle. Files in other formats will not be acceptable.\n",
    "   - Please ensure that you are not changing any part of the questions. \n",
    "   - Sample answers are provided for certain problems to notify you about the expected output.\n",
    "   - Please execute the following cell to write your name and student ID"
   ]
  },
  {
   "cell_type": "code",
   "execution_count": 3,
   "id": "13e59d2b",
   "metadata": {},
   "outputs": [
    {
     "name": "stdin",
     "output_type": "stream",
     "text": [
      "Enter your name:  Austin\n",
      "Enter your student ID:  200380350\n"
     ]
    },
    {
     "name": "stdout",
     "output_type": "stream",
     "text": [
      "Name: Austin - ID: 200380350\n"
     ]
    }
   ],
   "source": [
    "# Please run this cell to provide your name and ID\n",
    "name = input('Enter your name: ')\n",
    "_id = input(\"Enter your student ID: \")\n",
    "print('Name: {} - ID: {}'.format(name, _id))"
   ]
  },
  {
   "cell_type": "markdown",
   "id": "3cc646a2",
   "metadata": {},
   "source": [
    "### <font color='red'>Que 1:</font> Consider the following list. Using the concept of indexing, print the list element 'NAIT'.  <font color='green'>(2 point)"
   ]
  },
  {
   "cell_type": "code",
   "execution_count": 4,
   "id": "f64f274e",
   "metadata": {},
   "outputs": [],
   "source": [
    "aList = [-10,2,[5,8],[3,7,['A','B',['C','D',['NAIT']],89,23],10],'W','Z']"
   ]
  },
  {
   "cell_type": "code",
   "execution_count": 5,
   "id": "9e35187e",
   "metadata": {},
   "outputs": [
    {
     "data": {
      "text/plain": [
       "['NAIT']"
      ]
     },
     "execution_count": 5,
     "metadata": {},
     "output_type": "execute_result"
    }
   ],
   "source": [
    "# Write your code from here.\n",
    "aList[3][2][2][2]"
   ]
  },
  {
   "cell_type": "markdown",
   "id": "a3003a9c",
   "metadata": {},
   "source": [
    "### <font color='red'>Que 2:</font> Consider the following dictionary. Print the value 'Edmonton'. <font color='green'>(2 point)"
   ]
  },
  {
   "cell_type": "code",
   "execution_count": 6,
   "id": "2480c804",
   "metadata": {},
   "outputs": [],
   "source": [
    "cities = {'ON':['Toronto','Ottawa',{'BC':['Vancouver','Surrey',{'AB':['Calgary','Edmonton','Lethbridge']}]}]}"
   ]
  },
  {
   "cell_type": "code",
   "execution_count": 7,
   "id": "123e1f42",
   "metadata": {},
   "outputs": [
    {
     "data": {
      "text/plain": [
       "'Edmonton'"
      ]
     },
     "execution_count": 7,
     "metadata": {},
     "output_type": "execute_result"
    }
   ],
   "source": [
    "# Write your code from here.\n",
    "cities['ON'][2]['BC'][2]['AB'][1]"
   ]
  },
  {
   "cell_type": "markdown",
   "id": "bb72091e",
   "metadata": {},
   "source": [
    "### <font color='red'> Que 3: </font> Write a function that can accept n numbers of email addresses, and return all the user names. For example, the function should return asifn and xyz if the email addresses are asifn@nait.ca and xyz@gmail.com respectively. <font color='green'>(2 point)"
   ]
  },
  {
   "cell_type": "code",
   "execution_count": 2,
   "id": "14c5dff1",
   "metadata": {},
   "outputs": [
    {
     "name": "stdin",
     "output_type": "stream",
     "text": [
      "Please enter number of email addresses:  2\n",
      "Please enter email address (ex. Bob@gmail.com):  austin@gmail.com\n",
      "Please enter email address (ex. Bob@gmail.com):  bob@gmail.com\n"
     ]
    },
    {
     "name": "stdout",
     "output_type": "stream",
     "text": [
      "austin\n",
      "bob\n"
     ]
    }
   ],
   "source": [
    "# Write your code from here.\n",
    "def emailUsers():\n",
    "        emails = []\n",
    "        num = int(input('Please enter number of emails: '))\n",
    "        for i in range(num):\n",
    "            email = input('Please enter emails (ex. Bob@gmail.com): ')\n",
    "            user = email.split('@')[0]\n",
    "            emails.append(user)\n",
    "    \n",
    "        for item in emails:\n",
    "            print(item)\n",
    "emailUsers()"
   ]
  },
  {
   "cell_type": "code",
   "execution_count": null,
   "id": "55462ffd",
   "metadata": {},
   "outputs": [],
   "source": []
  },
  {
   "cell_type": "markdown",
   "id": "0a73359b",
   "metadata": {},
   "source": [
    "### <font color='red'> Que 4: </font> Write a function that accepts two lists (list data structure) of fruit names as parameters, and returns the names of the fruits that appear in both lists. Write appropriate function call to show that your function is generating the correct output. Note: The names of the fruits can appear in the lists in either upper case or lower case, and your code must handle this case. <font color='green'>(4 point)"
   ]
  },
  {
   "cell_type": "code",
   "execution_count": 9,
   "id": "3f210fa0",
   "metadata": {},
   "outputs": [
    {
     "data": {
      "text/plain": [
       "(['Pineapple', 'Mango', 'Banana'], ['strawberry', 'grapes', 'cherry'])"
      ]
     },
     "execution_count": 9,
     "metadata": {},
     "output_type": "execute_result"
    }
   ],
   "source": [
    "# Write your code from here.\n",
    "def fruitNames(list1, list2):\n",
    "    return list1, list2\n",
    "\n",
    "fruit1 = ['Pineapple', 'Mango', 'Banana']\n",
    "fruit2 = ['strawberry', 'grapes', 'cherry']\n",
    "\n",
    "fruitNames(fruit1,fruit2)"
   ]
  },
  {
   "cell_type": "code",
   "execution_count": null,
   "id": "349145a0",
   "metadata": {},
   "outputs": [],
   "source": []
  },
  {
   "cell_type": "markdown",
   "id": "1d6ebfb7",
   "metadata": {},
   "source": [
    "### <font color='red'> Que 5: </font> (a) Create the following matrix. (b) Convert all the numbers to 0 except the diagonal elements of the matrix you created in part (a). See the expected output. <font color='green'>(3 point)"
   ]
  },
  {
   "cell_type": "code",
   "execution_count": 115,
   "id": "b69d6b49",
   "metadata": {},
   "outputs": [
    {
     "name": "stdout",
     "output_type": "stream",
     "text": [
      "[[0.01 0.02 0.03 0.04 0.05 0.06 0.07 0.08 0.09 0.1 ]\n",
      " [0.11 0.12 0.13 0.14 0.15 0.16 0.17 0.18 0.19 0.2 ]\n",
      " [0.21 0.22 0.23 0.24 0.25 0.26 0.27 0.28 0.29 0.3 ]\n",
      " [0.31 0.32 0.33 0.34 0.35 0.36 0.37 0.38 0.39 0.4 ]\n",
      " [0.41 0.42 0.43 0.44 0.45 0.46 0.47 0.48 0.49 0.5 ]\n",
      " [0.51 0.52 0.53 0.54 0.55 0.56 0.57 0.58 0.59 0.6 ]\n",
      " [0.61 0.62 0.63 0.64 0.65 0.66 0.67 0.68 0.69 0.7 ]\n",
      " [0.71 0.72 0.73 0.74 0.75 0.76 0.77 0.78 0.79 0.8 ]\n",
      " [0.81 0.82 0.83 0.84 0.85 0.86 0.87 0.88 0.89 0.9 ]\n",
      " [0.91 0.92 0.93 0.94 0.95 0.96 0.97 0.98 0.99 1.  ]]\n"
     ]
    }
   ],
   "source": [
    "# Write your code from here.\n",
    "# Part (a)\n",
    "import numpy as np\n",
    "\n",
    "arr = np.arange(0.01, 1.01, 0.01).reshape(10,10)\n",
    "print(arr)"
   ]
  },
  {
   "cell_type": "code",
   "execution_count": 129,
   "id": "47af662d",
   "metadata": {},
   "outputs": [
    {
     "name": "stdout",
     "output_type": "stream",
     "text": [
      "[[0.01 0.   0.   0.   0.   0.   0.   0.   0.   0.  ]\n",
      " [0.   0.12 0.   0.   0.   0.   0.   0.   0.   0.  ]\n",
      " [0.   0.   0.23 0.   0.   0.   0.   0.   0.   0.  ]\n",
      " [0.   0.   0.   0.34 0.   0.   0.   0.   0.   0.  ]\n",
      " [0.   0.   0.   0.   0.45 0.   0.   0.   0.   0.  ]\n",
      " [0.   0.   0.   0.   0.   0.56 0.   0.   0.   0.  ]\n",
      " [0.   0.   0.   0.   0.   0.   0.67 0.   0.   0.  ]\n",
      " [0.   0.   0.   0.   0.   0.   0.   0.78 0.   0.  ]\n",
      " [0.   0.   0.   0.   0.   0.   0.   0.   0.89 0.  ]\n",
      " [0.   0.   0.   0.   0.   0.   0.   0.   0.   1.  ]]\n"
     ]
    }
   ],
   "source": [
    "# Part (b)\n",
    "arr[:1, 1:10] = 0\n",
    "arr[1][0] = 0\n",
    "arr[:2, 2:10] = 0\n",
    "arr[2][0:2] = 0\n",
    "arr[:3, 3:10] = 0\n",
    "arr[3][0:3] = 0\n",
    "arr[:4, 4:10] = 0\n",
    "arr[4][0:4] = 0\n",
    "arr[:5, 5:10] = 0\n",
    "arr[5][0:5] = 0\n",
    "arr[:6, 6:10] = 0\n",
    "arr[6][0:6] = 0\n",
    "arr[:7, 7:10] = 0\n",
    "arr[7][0:7] = 0\n",
    "arr[:8, 8:10] = 0\n",
    "arr[8][0:8] = 0\n",
    "arr[:9, 9:10] = 0\n",
    "arr[9][0:9] = 0\n",
    "arr[:10, 10:10] = 0\n",
    "print(arr)"
   ]
  },
  {
   "cell_type": "markdown",
   "id": "5f2d9523",
   "metadata": {},
   "source": [
    "### <font color='red'> Que 6: </font> (a) Create the following matrix. (b) Write the code to get the following elements from the matrix you created in part (a). <font color='green'>(3 point)\n"
   ]
  },
  {
   "cell_type": "code",
   "execution_count": 68,
   "id": "db6ea9a4",
   "metadata": {},
   "outputs": [
    {
     "name": "stdout",
     "output_type": "stream",
     "text": [
      "[[  1   2   3   4   5   6   7   8   9  10]\n",
      " [ 11  12  13  14  15  16  17  18  19  20]\n",
      " [ 21  22  23  24  25  26  27  28  29  30]\n",
      " [ 31  32  33  34  35  36  37  38  39  40]\n",
      " [ 41  42  43  44  45  46  47  48  49  50]\n",
      " [ 51  52  53  54  55  56  57  58  59  60]\n",
      " [ 61  62  63  64  65  66  67  68  69  70]\n",
      " [ 71  72  73  74  75  76  77  78  79  80]\n",
      " [ 81  82  83  84  85  86  87  88  89  90]\n",
      " [ 91  92  93  94  95  96  97  98  99 100]]\n"
     ]
    }
   ],
   "source": [
    "# Write your code from here.\n",
    "# Part (a)\n",
    "arr2 = np.arange(1, 101, 1).reshape(10,10)\n",
    "print(arr2)"
   ]
  },
  {
   "cell_type": "code",
   "execution_count": 214,
   "id": "4874dc32",
   "metadata": {},
   "outputs": [
    {
     "name": "stdout",
     "output_type": "stream",
     "text": [
      "[[45 46 47 48 49]\n",
      " [55 56 57 58 59]\n",
      " [65 66 67 68 69]]\n"
     ]
    }
   ],
   "source": [
    "# Part (b)\n",
    "print(arr2[[4, 5, 6], 4:9])"
   ]
  },
  {
   "cell_type": "markdown",
   "id": "445be88c",
   "metadata": {},
   "source": [
    "### <font color='red'> Que 7: </font> Create the following matrix. <font color='green'>(3 point)"
   ]
  },
  {
   "cell_type": "code",
   "execution_count": 143,
   "id": "ecb63af0",
   "metadata": {},
   "outputs": [
    {
     "name": "stdout",
     "output_type": "stream",
     "text": [
      "[[1. 1. 1. 1. 1. 1. 1.]\n",
      " [1. 0. 0. 0. 0. 0. 1.]\n",
      " [1. 0. 0. 0. 0. 0. 1.]\n",
      " [1. 0. 0. 7. 0. 0. 1.]\n",
      " [1. 0. 0. 0. 0. 0. 1.]\n",
      " [1. 0. 0. 0. 0. 0. 1.]\n",
      " [1. 1. 1. 1. 1. 1. 1.]]\n"
     ]
    }
   ],
   "source": [
    "# Write your code from here.\n",
    "arr_zeros = np.zeros((7,7))\n",
    "arr_zeros[:,0] = 1\n",
    "arr_zeros[0] = 1\n",
    "arr_zeros[:,-1] = 1\n",
    "arr_zeros[-1] = 1\n",
    "arr_zeros[3][3] = 7\n",
    "print(arr_zeros)"
   ]
  },
  {
   "cell_type": "markdown",
   "id": "b760c222",
   "metadata": {},
   "source": [
    "### <font color='red'> Que 8: </font> Write a Python code that takes a line of text as user input. Define a function that will take the user input as a parameter and returns a list of digits that appear in the user input. You <font color = 'brown'><u>must</u></font> use the concept of list comprehension to create the list. See the sample outputs. <font color='green'>(3 point)"
   ]
  },
  {
   "cell_type": "code",
   "execution_count": 195,
   "id": "8c52446d",
   "metadata": {},
   "outputs": [],
   "source": [
    "# Write your code from here.\n",
    "def numSplit():\n",
    "    userInput = input('Enter your text: ')\n",
    "    numbers = [num for num in userInput if num.isdigit()]\n",
    "    print(numbers)\n"
   ]
  },
  {
   "cell_type": "code",
   "execution_count": 196,
   "id": "f93e81b1",
   "metadata": {},
   "outputs": [
    {
     "name": "stdin",
     "output_type": "stream",
     "text": [
      "Enter your text:  DATA3650 Advanc3d 7echniqu3\n"
     ]
    },
    {
     "name": "stdout",
     "output_type": "stream",
     "text": [
      "['3', '6', '5', '0', '3', '7', '3']\n"
     ]
    }
   ],
   "source": [
    "# sample run: 1\n",
    "numSplit()"
   ]
  },
  {
   "cell_type": "code",
   "execution_count": 197,
   "id": "517081a4",
   "metadata": {},
   "outputs": [
    {
     "name": "stdin",
     "output_type": "stream",
     "text": [
      "Enter your text:  Data Analytics\n"
     ]
    },
    {
     "name": "stdout",
     "output_type": "stream",
     "text": [
      "[]\n"
     ]
    }
   ],
   "source": [
    "# sample run: 2\n",
    "numSplit()"
   ]
  },
  {
   "cell_type": "code",
   "execution_count": 198,
   "id": "937f9842",
   "metadata": {},
   "outputs": [
    {
     "name": "stdin",
     "output_type": "stream",
     "text": [
      "Enter your text:  T0 8E 0R N07 70 8E\n"
     ]
    },
    {
     "name": "stdout",
     "output_type": "stream",
     "text": [
      "['0', '8', '0', '0', '7', '7', '0', '8']\n"
     ]
    }
   ],
   "source": [
    "# sample run: 3\n",
    "numSplit()"
   ]
  },
  {
   "cell_type": "code",
   "execution_count": null,
   "id": "1c34cd72",
   "metadata": {},
   "outputs": [],
   "source": []
  }
 ],
 "metadata": {
  "kernelspec": {
   "display_name": "Python 3 (ipykernel)",
   "language": "python",
   "name": "python3"
  },
  "language_info": {
   "codemirror_mode": {
    "name": "ipython",
    "version": 3
   },
   "file_extension": ".py",
   "mimetype": "text/x-python",
   "name": "python",
   "nbconvert_exporter": "python",
   "pygments_lexer": "ipython3",
   "version": "3.9.12"
  }
 },
 "nbformat": 4,
 "nbformat_minor": 5
}
