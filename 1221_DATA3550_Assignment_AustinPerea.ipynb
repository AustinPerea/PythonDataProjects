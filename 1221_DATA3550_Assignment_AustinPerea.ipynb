{
 "cells": [
  {
   "cell_type": "markdown",
   "id": "f4d549f9-2811-4627-8033-cfe26833582b",
   "metadata": {},
   "source": [
    "1. Calories Burned During A Workout\n",
    "The following equations estimate the calories burned when exercising (source):\n",
    "Women: Calories = ( (Age x 0.074) + (Weight x 0.05741) + (Heart Rate x 0.4472) — 20.4022 ) x\n",
    "Time / 4.184\n",
    "Men: Calories = ( (Age x 0.2017) + (Weight x 0.09036) + (Heart Rate x 0.6309) — 55.0969 ) x Time /\n",
    "4.184\n",
    "Write a program using inputs age (years), weight (pounds), heart rate (beats per minute), and time\n",
    "(minutes), respectively. Output calories burned for women and men.\n",
    "Output each floating-point value with two digits after the decimal point"
   ]
  },
  {
   "cell_type": "code",
   "execution_count": 5,
   "id": "9ae334ac-fce1-43fb-b769-f4bfafdce94e",
   "metadata": {},
   "outputs": [
    {
     "name": "stdin",
     "output_type": "stream",
     "text": [
      "Enter your age(years):  23\n",
      "Enter your weight(pounds):  140\n",
      "Enter your heart rate(beats per minute):  100\n",
      "Enter your time(minutes):  60\n"
     ]
    },
    {
     "name": "stdout",
     "output_type": "stream",
     "text": [
      "For women, 488.39 calories burned\n",
      "For men, 362.56 calories burned\n"
     ]
    }
   ],
   "source": [
    "age = float(input(\"Enter your age(years): \"))\n",
    "weight = float(input(\"Enter your weight(pounds): \"))\n",
    "heartRate = float(input(\"Enter your heart rate(beats per minute): \"))\n",
    "time = float(input(\"Enter your time(minutes): \"))\n",
    "\n",
    "womenCalo = ((age * 0.074) + (weight * 0.05741) + (heartRate * 0.4472) - 20.4022 ) * time / 4.184\n",
    "menCalo = ((age * 0.2017) + (weight * 0.09036) + (heartRate * 0.6309) - 55.0969 ) * time / 4.184\n",
    "\n",
    "print(\"For women, %.2f calories burned\" % womenCalo)\n",
    "print(\"For men, %.2f calories burned\" % menCalo)"
   ]
  },
  {
   "cell_type": "markdown",
   "id": "97bd6581-1ed1-424b-9370-b79ad3bf69f7",
   "metadata": {},
   "source": [
    "2. Simple statistics\n",
    "You are given 4 floating-point numbers. Use a string formatting expression with conversion specifiers to\n",
    "output their product and their average as integers (rounded) and floating-point numbers.\n",
    "Output each rounded integer using the following:\n",
    "print('{:.0f}'.format(your_value))\n",
    "Output each floating-point value with three digits after the decimal point, which can be achieved as\n",
    "follows:\n",
    "print('{:.3f}'.format(your_value))"
   ]
  },
  {
   "cell_type": "code",
   "execution_count": 4,
   "id": "083d78be-5ad3-445c-b510-7953c119ef92",
   "metadata": {},
   "outputs": [
    {
     "name": "stdout",
     "output_type": "stream",
     "text": [
      "7\n",
      "6.575\n"
     ]
    }
   ],
   "source": [
    "num = [3.2, 10.6, 4.8, 7.7]\n",
    "\n",
    "avg = (num[0] + num[1] + num[2] + num[3]) / 4\n",
    "\n",
    "print('{:.0f}'.format(avg))\n",
    "\n",
    "print('{:.3f}'.format(avg))"
   ]
  },
  {
   "cell_type": "markdown",
   "id": "790ac490-560c-4ec4-9e04-fe9eb8f63653",
   "metadata": {},
   "source": [
    "3. Seasons\n",
    "Write a program that takes a date as input and outputs the date's season. The input is a string to\n",
    "represent the month and an int to represent the day. In addition, check if the string and int are valid (an\n",
    "actual month and day).\n",
    "The dates for each season are:\n",
    "Spring: March 20 - June 20\n",
    "Summer: June 21 - September 21\n",
    "Autumn: September 22 - December 20\n",
    "Winter: December 21 - March 19"
   ]
  },
  {
   "cell_type": "code",
   "execution_count": 18,
   "id": "68b80aa2-733b-4952-a35f-9789a1afcd78",
   "metadata": {},
   "outputs": [
    {
     "name": "stdin",
     "output_type": "stream",
     "text": [
      "Enter a month:  december\n",
      "Enter a day:  20\n"
     ]
    },
    {
     "name": "stdout",
     "output_type": "stream",
     "text": [
      "Autumn\n"
     ]
    }
   ],
   "source": [
    "month = input(\"Enter a month: \")\n",
    "day = int(input(\"Enter a day: \"))\n",
    "\n",
    "month.lower()\n",
    "\n",
    "if month == \"january\" and (1 <= day <= 31): \n",
    "    print(\"Winter\") \n",
    "elif month == \"february\" and (1 <= day <= 28): \n",
    "    print(\"Winter\")\n",
    "elif month == \"march\" and (1 <= day <= 19): \n",
    "    print(\"Winter\")\n",
    "elif month == \"march\" and (20 <= day <= 31): \n",
    "    print(\"Spring\")\n",
    "elif month == \"april\" and (1 <= day <= 30): \n",
    "    print(\"Spring\")\n",
    "elif month == \"may\" and (1 <= day <= 31): \n",
    "    print(\"Spring\") \n",
    "elif month == \"june\" and (1 <= day <= 20): \n",
    "    print(\"Spring\")\n",
    "elif month == \"june\" and (21 <= day <= 30): \n",
    "    print(\"Summer\")\n",
    "elif month == \"july\" and (1 <= day <= 31): \n",
    "    print(\"Summer\")\n",
    "elif month == \"august\" and (1 <= day <= 31): \n",
    "    print(\"Summer\")\n",
    "elif month == \"september\" and (1 <= day <= 21): \n",
    "    print(\"Summer\")\n",
    "elif month == \"september\" and (22 <= day <= 30): \n",
    "    print(\"Autumn\")\n",
    "elif month == \"october\" and (1 <= day <= 31): \n",
    "    print(\"Autumn\")\n",
    "elif month == \"november\" and (1 <= day <= 30): \n",
    "    print(\"Autumn\")\n",
    "elif month == \"december\" and (1 <= day <= 20): \n",
    "    print(\"Autumn\")\n",
    "elif month == \"december\" and (21 <= day <= 31): \n",
    "    print(\"Winter\") \n",
    "else:\n",
    "    print(\"Enter a valid month/day.\")\n",
    "    \n",
    "\n",
    "    "
   ]
  },
  {
   "cell_type": "markdown",
   "id": "e497c41d-23cf-4077-affe-361ebf021ed4",
   "metadata": {},
   "source": [
    "4. Print string in reverse\n",
    "Write a program that takes in a line of text as input, and outputs that line of text in reverse. The program\n",
    "repeats, ending when the user enters \"Done\", \"done\", or \"d\" for the line of text."
   ]
  },
  {
   "cell_type": "code",
   "execution_count": 6,
   "id": "0158cda9-19b1-4d67-83d0-b55c08ca00c6",
   "metadata": {},
   "outputs": [
    {
     "name": "stdin",
     "output_type": "stream",
     "text": [
      " hello joe\n"
     ]
    },
    {
     "name": "stdout",
     "output_type": "stream",
     "text": [
      "eoj olleh\n"
     ]
    },
    {
     "name": "stdin",
     "output_type": "stream",
     "text": [
      " how are you\n"
     ]
    },
    {
     "name": "stdout",
     "output_type": "stream",
     "text": [
      "uoy era woh\n"
     ]
    },
    {
     "name": "stdin",
     "output_type": "stream",
     "text": [
      " today\n"
     ]
    },
    {
     "name": "stdout",
     "output_type": "stream",
     "text": [
      "yadot\n"
     ]
    },
    {
     "name": "stdin",
     "output_type": "stream",
     "text": [
      " Done\n"
     ]
    }
   ],
   "source": [
    "userInput = input()\n",
    "validation = ['Done', 'done', 'd']\n",
    "while userInput not in validation:\n",
    "    print(userInput[::-1])\n",
    "    userInput = input()"
   ]
  },
  {
   "cell_type": "markdown",
   "id": "4919a29d-1fc6-4a09-8db2-d8b000bf733a",
   "metadata": {},
   "source": [
    "5. Step counter\n",
    "A pedometer treats walking 2,000 steps as walking 1 mile. Write a program whose input is the number of\n",
    "steps and whose output is the miles walked. Your program must define and call the following function. The\n",
    "function should return the number of miles walked"
   ]
  },
  {
   "cell_type": "code",
   "execution_count": 3,
   "id": "b7abda1b-9d3a-4f94-82bf-211cecea382c",
   "metadata": {},
   "outputs": [
    {
     "name": "stdin",
     "output_type": "stream",
     "text": [
      "Enter the number of steps you walked:  1234\n"
     ]
    },
    {
     "name": "stdout",
     "output_type": "stream",
     "text": [
      "You have walked 0.617 miles,\n"
     ]
    }
   ],
   "source": [
    "def stepCounter():\n",
    "    steps = int(input(\"Enter the number of steps you walked: \"))\n",
    "    miles = steps / 2000\n",
    "    return miles\n",
    "\n",
    "print('You have walked',stepCounter(),'miles,')"
   ]
  },
  {
   "cell_type": "code",
   "execution_count": null,
   "id": "cfa765f3-1042-4941-8688-10a0437b0b3d",
   "metadata": {},
   "outputs": [],
   "source": []
  }
 ],
 "metadata": {
  "kernelspec": {
   "display_name": "Python 3 (ipykernel)",
   "language": "python",
   "name": "python3"
  },
  "language_info": {
   "codemirror_mode": {
    "name": "ipython",
    "version": 3
   },
   "file_extension": ".py",
   "mimetype": "text/x-python",
   "name": "python",
   "nbconvert_exporter": "python",
   "pygments_lexer": "ipython3",
   "version": "3.9.12"
  }
 },
 "nbformat": 4,
 "nbformat_minor": 5
}
