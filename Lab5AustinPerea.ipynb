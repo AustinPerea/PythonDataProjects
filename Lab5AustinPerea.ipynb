{
 "cells": [
  {
   "cell_type": "markdown",
   "id": "f0fdaf0c-6be7-4cb9-92a9-ac41e5109487",
   "metadata": {},
   "source": [
    "1. Create a program that takes an adult user input of weight and height, and output the BMI index together with some health advice. (Please utilize exception handling techniques in the program with try/except.)"
   ]
  },
  {
   "cell_type": "code",
   "execution_count": 36,
   "id": "ad132198-0570-4b0b-9951-fda64ad98a83",
   "metadata": {},
   "outputs": [
    {
     "name": "stdin",
     "output_type": "stream",
     "text": [
      "Please enter your weight (kilograms): 63\n",
      "Please enter your height (meters): 1.65\n"
     ]
    },
    {
     "name": "stdout",
     "output_type": "stream",
     "text": [
      "Your body mass index is: 23.1\n",
      "Your weight status is: healthy weight\n"
     ]
    }
   ],
   "source": [
    "def main():\n",
    "    try:\n",
    "        weight = float(input('Please enter your weight (kilograms):'))\n",
    "        height = float(input('Please enter your height (meters):'))\n",
    "        \n",
    "    except ValueError:\n",
    "        print(\"Please enter a valid number.\")\n",
    "    else:\n",
    "        bmi = round(bmiCalc(weight, height), 1)\n",
    "        stat = bmiStat(bmi)\n",
    "\n",
    "        print(\"Your body mass index is:\", bmi)\n",
    "        print(\"Your weight status is:\", stat)\n",
    "\n",
    "def bmiCalc(weight, height):\n",
    "    return weight / height**2\n",
    "\n",
    "def bmiStat(bmi):\n",
    "    if bmi < 18.5:\n",
    "        return 'underweight'\n",
    "    elif 18.5 <= bmi <= 24.9:\n",
    "        return 'healthy weight'\n",
    "    elif 25.0 <= bmi <= 29.9:\n",
    "        return 'overweight'\n",
    "    else:\n",
    "        return 'obese'\n",
    "        \n",
    "        \n",
    "main()"
   ]
  },
  {
   "cell_type": "markdown",
   "id": "a118975e-5975-41cc-900d-1eca02162307",
   "metadata": {},
   "source": [
    "2. Write a program that first reads in the name of an input file, followed by two strings representing the lower and upper bounds of a search range. The enclosed file (Wk10_Lab5_1211_input.txt) contains a list of alphabetical, ten-letter words with each word on a separate line. The file can be read using the file.readlines() method. Your program should output all strings from the list that are within that range (inclusive of the bounds)."
   ]
  },
  {
   "cell_type": "code",
   "execution_count": 27,
   "id": "b562c920-82c0-495f-b9f6-3cf0a1b2cae3",
   "metadata": {},
   "outputs": [
    {
     "name": "stdin",
     "output_type": "stream",
     "text": [
      "Please enter the file name(Ex.Lab5_input.txt):  Lab5_input.txt\n",
      "Please enter the upper bound word(Ex.ammoniated):  ammoniated\n",
      "Please enter the lower bound word(Ex.millennium):  millennium\n"
     ]
    },
    {
     "name": "stdout",
     "output_type": "stream",
     "text": [
      "aspiration\n",
      "classified\n",
      "federation\n",
      "graduation\n",
      "millennium\n"
     ]
    }
   ],
   "source": [
    "inFile = input(\"Please enter the file name(Ex.Lab5_input.txt): \")\n",
    "inUp = input(\"Please enter the upper bound word(Ex.ammoniated): \")\n",
    "inLow = input(\"Please enter the lower bound word(Ex.millennium): \")\n",
    "\n",
    "outFile = open(inFile, \"r\")  \n",
    "wordList = outFile.readlines()\n",
    "\n",
    "for word in wordList:\n",
    "     if inUp + \"/n\" <= word <= inLow + \"/n\":\n",
    "        print(word, end=\"\")\n",
    "    \n",
    "outFile.close()"
   ]
  },
  {
   "cell_type": "markdown",
   "id": "49949793-f240-4a01-8998-e6af956a6451",
   "metadata": {},
   "source": [
    "3. An acronym is a word formed from the initial letters of words in a set phrase. Write a program whose input is a phrase and whose output is an acronym of the input. If a word begins with a lower-case letter, don't include that letter in the acronym. Assume there will be at least one upper case letter in the input."
   ]
  },
  {
   "cell_type": "code",
   "execution_count": 28,
   "id": "63b6dd5e-092c-4ef7-b641-d89ba27d17d9",
   "metadata": {},
   "outputs": [
    {
     "name": "stdin",
     "output_type": "stream",
     "text": [
      "Please enter a name:  Northern Alberta Institute of Technology\n"
     ]
    },
    {
     "name": "stdout",
     "output_type": "stream",
     "text": [
      "NAIT\n"
     ]
    }
   ],
   "source": [
    "name = input(\"Please enter a name: \")\n",
    "nameList = name.split()\n",
    "acronym = \"\"\n",
    "\n",
    "for word in nameList:\n",
    "    if word[0].isupper():\n",
    "        acronym += word[0]\n",
    "        \n",
    "print(acronym)"
   ]
  },
  {
   "cell_type": "markdown",
   "id": "78172619-b65e-4351-ae0f-eb556441c8e6",
   "metadata": {},
   "source": [
    "4. Write a program that asks a user to type in two strings and that prints the characters that occur in both strings, the characters that occur in one string but not the other. Use the set function to turn a string into a set of characters. "
   ]
  },
  {
   "cell_type": "code",
   "execution_count": 4,
   "id": "4f0ec6db-2efb-494b-b088-eeac745a7906",
   "metadata": {},
   "outputs": [
    {
     "name": "stdin",
     "output_type": "stream",
     "text": [
      "Please enter a word:  university\n",
      "Please enter a word:  varsity\n"
     ]
    },
    {
     "name": "stdout",
     "output_type": "stream",
     "text": [
      "Repeated:  {'v', 'y', 'r', 'i', 's', 't'}\n",
      "Differences in A and not B {'u', 'n', 'e'}\n",
      "Differences in B and not A {'a'}\n"
     ]
    }
   ],
   "source": [
    "str1Input = input(\"Please enter a word: \")\n",
    "str2Input = input(\"Please enter a word: \")\n",
    "\n",
    "str1 = set(str1Input)\n",
    "str2 = set(str2Input)\n",
    "    \n",
    "print(\"Repeated: \", str1.intersection(str2))  \n",
    "print(\"Differences in A and not B\", set.difference(str1,str2))\n",
    "print(\"Differences in B and not A\", set.difference(str2,str1))"
   ]
  },
  {
   "cell_type": "code",
   "execution_count": null,
   "id": "e66e6335-781b-4fcd-8390-2eac48d890e9",
   "metadata": {},
   "outputs": [],
   "source": []
  }
 ],
 "metadata": {
  "kernelspec": {
   "display_name": "Python 3 (ipykernel)",
   "language": "python",
   "name": "python3"
  },
  "language_info": {
   "codemirror_mode": {
    "name": "ipython",
    "version": 3
   },
   "file_extension": ".py",
   "mimetype": "text/x-python",
   "name": "python",
   "nbconvert_exporter": "python",
   "pygments_lexer": "ipython3",
   "version": "3.9.12"
  }
 },
 "nbformat": 4,
 "nbformat_minor": 5
}
