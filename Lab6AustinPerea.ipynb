{
 "cells": [
  {
   "cell_type": "markdown",
   "id": "4462c7fe-ff80-4811-8a5a-0c3f8ecc6bfb",
   "metadata": {},
   "source": [
    "1. Declare a class named PatientData that contains two attributes named height_inches and weight_pounds."
   ]
  },
  {
   "cell_type": "code",
   "execution_count": 37,
   "id": "7c454658-f452-48ee-aaf7-ecc54a2b0b98",
   "metadata": {},
   "outputs": [],
   "source": [
    "class PatientData:\n",
    "    def __init__(self):\n",
    "        self.height_inches = 0\n",
    "        self.weight_pounds = 0 "
   ]
  },
  {
   "cell_type": "code",
   "execution_count": 45,
   "id": "f3a8713b-0c05-4095-9804-c023ce1b87f8",
   "metadata": {},
   "outputs": [
    {
     "name": "stdout",
     "output_type": "stream",
     "text": [
      "Patient data (before): 0 in, 0 lbs\n"
     ]
    },
    {
     "name": "stdin",
     "output_type": "stream",
     "text": [
      "Enter your height(in):  63\n",
      "Enter your weight(lbs):  115\n"
     ]
    },
    {
     "name": "stdout",
     "output_type": "stream",
     "text": [
      "Patient data (after): 63 in, 115 lbs\n"
     ]
    }
   ],
   "source": [
    "p = PatientData()\n",
    "try:\n",
    "    print(f'Patient data (before): {p.height_inches} in, {p.weight_pounds} lbs')\n",
    "    p.height_inches = int(input('Enter your height(in): '))  \n",
    "    p.weight_pounds = int(input('Enter your weight(lbs): '))\n",
    "except ValueError:\n",
    "    print('This is not a whole number.')\n",
    "else:\n",
    "    print(f'Patient data (after): {p.height_inches} in, {p.weight_pounds} lbs')"
   ]
  },
  {
   "cell_type": "markdown",
   "id": "c0d24b98-5d1d-4348-88d7-d979f00cf31d",
   "metadata": {},
   "source": [
    "2. Print the attributes of the InventoryTag object red_sweater.Sample output for the given program with inputs: 314 500\n"
   ]
  },
  {
   "cell_type": "code",
   "execution_count": 39,
   "id": "85bb63d3-215d-426a-8949-bbe24975baf1",
   "metadata": {},
   "outputs": [],
   "source": [
    "class InventoryTag:\n",
    "    def __init__(self):\n",
    "        self.id = 0\n",
    "        self.qty = 0"
   ]
  },
  {
   "cell_type": "code",
   "execution_count": 55,
   "id": "8682c5ea-46aa-495f-a279-4689ef80e8d5",
   "metadata": {},
   "outputs": [
    {
     "name": "stdin",
     "output_type": "stream",
     "text": [
      "Enter the ID number:  314\n",
      "Enter the quantity:  500\n"
     ]
    },
    {
     "name": "stdout",
     "output_type": "stream",
     "text": [
      "ID: 314\n",
      "Qty: 500\n"
     ]
    }
   ],
   "source": [
    "red_sweater = InventoryTag()\n",
    "\n",
    "try:\n",
    "    red_sweater.id = int(input('Enter the ID number: ')) \n",
    "    red_sweater.qty = int(input('Enter the quantity: '))\n",
    "except ValueError:\n",
    "    print('This is not a whole number.')\n",
    "else:\n",
    "    print('ID:', red_sweater.id)\n",
    "    print('Qty:', red_sweater.qty)"
   ]
  },
  {
   "cell_type": "markdown",
   "id": "57d9f886-04cb-4c90-9a9f-9e536c0300cd",
   "metadata": {},
   "source": [
    "3. Complete the Car class by creating an attribute purchase_price (type int) and the method print_info() that outputs the car's information. "
   ]
  },
  {
   "cell_type": "code",
   "execution_count": 48,
   "id": "8973f5a3-c9a9-4c56-8812-0803385a5e8f",
   "metadata": {},
   "outputs": [],
   "source": [
    "class Car:\n",
    "    def __init__(self):\n",
    "        self.model_year = 0\n",
    "        self.purchase_price = 0\n",
    "        self.current_value = 0\n",
    "    def print_info(self):\n",
    "        print('Car's information:')\n",
    "        print(' Model year:', self.model_year)\n",
    "        print(' Purchase price:', self.purchase_price)\n",
    "        print(' Current Value:', self.current_value)\n",
    "    "
   ]
  },
  {
   "cell_type": "code",
   "execution_count": 64,
   "id": "42c4163f-28cf-4a65-91b1-0d373b284975",
   "metadata": {},
   "outputs": [
    {
     "name": "stdin",
     "output_type": "stream",
     "text": [
      "Enter your model year:  2011\n",
      "Enter your purchase price:  18000\n",
      "Enter your current value:  5770\n"
     ]
    },
    {
     "name": "stdout",
     "output_type": "stream",
     "text": [
      "Car's information:\n",
      " Model year: 2011\n",
      " Purchase price: 18000\n",
      " Current Value: 5770\n"
     ]
    }
   ],
   "source": [
    "my_car = Car()\n",
    "\n",
    "try:\n",
    "    my_car.model_year = int(input('Enter your model year: ')) \n",
    "    my_car.purchase_price = int(input('Enter your purchase price: '))\n",
    "    my_car.current_value = int(input('Enter your current value: '))\n",
    "except ValueError:\n",
    "    print('This is not a whole number.')\n",
    "else:\n",
    "    my_car.print_info()"
   ]
  },
  {
   "cell_type": "markdown",
   "id": "8018f14c-c684-473a-81b0-c035ad577b18",
   "metadata": {},
   "source": [
    "4. Implement a class Address. An address has a house number, a street, an optional apartment number, a city, a province, and a postal code. Define the constructor such that an object can be created in one of two ways: with an apartment number or without. Supply a print method that prints the address with the street on one line and the city, state, and postal code on the next line."
   ]
  },
  {
   "cell_type": "code",
   "execution_count": 78,
   "id": "22687c9c-c833-469d-856d-d5db39c8e52d",
   "metadata": {},
   "outputs": [],
   "source": [
    "class Address:\n",
    "    def __init__(self):\n",
    "        self.street = 0\n",
    "        self.apartment_number = ''\n",
    "        self.city = ''\n",
    "        self.state = ''\n",
    "        self.postal_code = ''\n",
    "        \n",
    "    def print_address(self):\n",
    "        if self.apartment_number == 0:\n",
    "            print(f'Street: {self.street}')\n",
    "            print(f'City: {self.city}, State: {self.state}, Postal Code: {self.postal_code}')\n",
    "        else:\n",
    "            print(f'Street: {self.street}, Apartment Number: {self.apartment_number}')\n",
    "            print(f'City: {self.city}, State: {self.state}, Postal Code: {self.postal_code}')\n",
    "       "
   ]
  },
  {
   "cell_type": "code",
   "execution_count": 79,
   "id": "4fda1dcd-dd35-4e45-8fee-da3f4139a13e",
   "metadata": {},
   "outputs": [
    {
     "name": "stdin",
     "output_type": "stream",
     "text": [
      "Enter your street number:  2004\n",
      "Enter your apartment number(Optional: Enter 0 for blank):  435\n",
      "Enter your city:  New York\n",
      "Enter your state:  NY\n",
      "Enter your postal code:  10001\n"
     ]
    },
    {
     "name": "stdout",
     "output_type": "stream",
     "text": [
      "Street: 2004, Apartment Number: 435\n",
      "City: New York, State: NY, Postal Code: 10001\n"
     ]
    }
   ],
   "source": [
    "my_add = Address()\n",
    "\n",
    "try:\n",
    "    my_add.street = int(input('Enter your street number: ')) \n",
    "    my_add.apartment_number = int(input('Enter your apartment number(Optional: Enter 0 for blank): '))\n",
    "    my_add.city = input('Enter your city: ')\n",
    "    my_add.state = input('Enter your state: ')\n",
    "    my_add.postal_code = int(input('Enter your postal code: '))\n",
    "except ValueError:\n",
    "    print('This is not a whole number.')\n",
    "else:\n",
    "    my_add.print_address()"
   ]
  },
  {
   "cell_type": "markdown",
   "id": "a35b9f1d-7309-4fbb-8b26-cb58adb0e315",
   "metadata": {},
   "source": [
    "5. Given class Triangle, complete the program to read and set the base and height of triangle1 and triangle2, determine which triangle's area is larger, and output the larger triangle's info, making use of Triangle's relevant methods."
   ]
  },
  {
   "cell_type": "code",
   "execution_count": 62,
   "id": "9603cf9c-8146-4c44-a62a-94167adea5aa",
   "metadata": {},
   "outputs": [],
   "source": [
    "class Triangle:\n",
    "    def __init__(self):\n",
    "        self.base = 0\n",
    "        self.height = 0\n",
    "        \n",
    "    def get_area(self):\n",
    "        area = 0.5 * (self.base * self.height)\n",
    "        return area\n",
    "    \n",
    "    def print_info(self):\n",
    "        print('Base:', self.base)\n",
    "        print('Height:',self.height)\n",
    "        print('Base:', self.get_area())\n",
    "    "
   ]
  },
  {
   "cell_type": "code",
   "execution_count": 63,
   "id": "58dbe8e6-cc6a-41bc-8512-2defc3a6bad5",
   "metadata": {},
   "outputs": [
    {
     "name": "stdin",
     "output_type": "stream",
     "text": [
      "Enter the base of the first triangle:  6\n",
      "Enter the height of the first triangle:  6\n",
      "Enter the base of the second triangle:  3\n",
      "Enter the height of the second triangle:  3\n"
     ]
    },
    {
     "name": "stdout",
     "output_type": "stream",
     "text": [
      "Triangle 1 has a larger area.\n",
      "Base: 6\n",
      "Height: 6\n",
      "Base: 18.0\n"
     ]
    }
   ],
   "source": [
    "tri1 = Triangle()\n",
    "tri2 = Triangle()\n",
    "\n",
    "try:\n",
    "    tri1.base = int(input('Enter the base of the first triangle: ')) \n",
    "    tri1.height = int(input('Enter the height of the first triangle: '))\n",
    "    \n",
    "    tri2.base = int(input('Enter the base of the second triangle: ')) \n",
    "    tri2.height = int(input('Enter the height of the second triangle: ')) \n",
    "    \n",
    "except ValueError:\n",
    "    print('This is not a whole number.')\n",
    "    \n",
    "else:\n",
    "    if tri1.get_area() > tri2.get_area():\n",
    "        print('Triangle 1 has a larger area.')\n",
    "        tri1.print_info()\n",
    "    elif tri2.get_area() > tri1.get_area():\n",
    "        print('Triangle 2 has a larger area.')\n",
    "        tri2.print_info()\n",
    "    else:\n",
    "        print('Triangle 1 and 2 have the same area')"
   ]
  },
  {
   "cell_type": "code",
   "execution_count": null,
   "id": "1e84ceb3-d25c-4ee6-9525-6ff8256a22a6",
   "metadata": {},
   "outputs": [],
   "source": []
  }
 ],
 "metadata": {
  "kernelspec": {
   "display_name": "Python 3 (ipykernel)",
   "language": "python",
   "name": "python3"
  },
  "language_info": {
   "codemirror_mode": {
    "name": "ipython",
    "version": 3
   },
   "file_extension": ".py",
   "mimetype": "text/x-python",
   "name": "python",
   "nbconvert_exporter": "python",
   "pygments_lexer": "ipython3",
   "version": "3.9.12"
  }
 },
 "nbformat": 4,
 "nbformat_minor": 5
}
